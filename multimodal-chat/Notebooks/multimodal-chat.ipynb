{
 "cells": [
  {
   "cell_type": "code",
   "execution_count": 1,
   "metadata": {},
   "outputs": [
    {
     "name": "stderr",
     "output_type": "stream",
     "text": [
      "/home/chkei001/.venv/lib/python3.10/site-packages/tqdm/auto.py:21: TqdmWarning: IProgress not found. Please update jupyter and ipywidgets. See https://ipywidgets.readthedocs.io/en/stable/user_install.html\n",
      "  from .autonotebook import tqdm as notebook_tqdm\n"
     ]
    }
   ],
   "source": [
    "import torch\n",
    "from transformers import AutoProcessor, AutoModelForVision2Seq\n",
    "from transformers.image_utils import load_image"
   ]
  },
  {
   "attachments": {},
   "cell_type": "markdown",
   "metadata": {},
   "source": [
    "# Prompt tests"
   ]
  },
  {
   "cell_type": "code",
   "execution_count": 2,
   "metadata": {},
   "outputs": [
    {
     "name": "stderr",
     "output_type": "stream",
     "text": [
      "Special tokens have been added in the vocabulary, make sure the associated word embeddings are fine-tuned or trained.\n"
     ]
    },
    {
     "name": "stdout",
     "output_type": "stream",
     "text": [
      "(\"{% for message in messages %}{{message['role'].capitalize()}}{% if \"\n",
      " \"message['content'][0]['type'] == 'image' %}{{':'}}{% else %}{{': '}}{% endif \"\n",
      " \"%}{% for line in message['content'] %}{% if line['type'] == 'text' \"\n",
      " \"%}{{line['text']}}{% elif line['type'] == 'image' %}{{ '<image>' }}{% endif \"\n",
      " '%}{% endfor %}<end_of_utterance>\\n'\n",
      " \"{% endfor %}{% if add_generation_prompt %}{{ 'Assistant:' }}{% endif %}\")\n"
     ]
    }
   ],
   "source": [
    "from pprint import pprint\n",
    "processor = AutoProcessor.from_pretrained(\"HuggingFaceM4/idefics2-8b-chatty\")\n",
    "pprint(processor.chat_template)"
   ]
  },
  {
   "cell_type": "code",
   "execution_count": 3,
   "metadata": {},
   "outputs": [
    {
     "data": {
      "text/plain": [
       "\"{% for message in messages %}{{message['role'].capitalize()}}{% if message['content'][0]['type'] == 'image' %}{{':'}}{% else %}{{': '}}{% endif %}{% for line in message['content'] %}{% if line['type'] == 'text' %}{{line['text']}}{% elif line['type'] == 'image' %}{{ '<image>' }}{% endif '%}{% endfor %}<end_of_utterance>\\n{% endfor %}{% if add_generation_prompt %}{{ 'Assistant:' }}{% endif %}\""
      ]
     },
     "execution_count": 3,
     "metadata": {},
     "output_type": "execute_result"
    }
   ],
   "source": [
    "(\"{% for message in messages %}\"\n",
    "    \"{{message['role'].capitalize()}}\"\n",
    "    \"{% if message['content'][0]['type'] == 'image' %}\"\n",
    "        \"{{':'}}\"\n",
    "    \"{% else %}{{': '}}\"\n",
    "    \"{% endif %}\"\n",
    "    \"{% for line in message['content'] %}\"\n",
    "        \"{% if line['type'] == 'text' %}\"\n",
    "            \"{{line['text']}}\"\n",
    "        \"{% elif line['type'] == 'image' %}\"\n",
    "            \"{{ '<image>' }}\"\n",
    "        \"{% endif '%}\"\n",
    "    \"{% endfor %}\"\n",
    "    \"<end_of_utterance>\\n\"\n",
    " \"{% endfor %}\"\n",
    " \"{% if add_generation_prompt %}\"\n",
    "    \"{{ 'Assistant:' }}{% endif %}\")"
   ]
  },
  {
   "cell_type": "code",
   "execution_count": 4,
   "metadata": {},
   "outputs": [],
   "source": [
    "def prompt(question: str, images: list | None = None) -> str:\n",
    "    messages = [\n",
    "        {\n",
    "            \"role\": \"system\",\n",
    "            \"content\": [\n",
    "                {\"type\": \"text\", \"text\": \"You are a friendly assistant which answers user querstions \\\n",
    "                    based on text and image inputs.\"}\n",
    "            ]\n",
    "        }\n",
    "    ]\n",
    "    user_message = {\"role\": \"user\", \"content\": []}\n",
    "    if images:\n",
    "        for img in images:\n",
    "            user_message[\"content\"].append({\"type\": \"image\"})\n",
    "    user_message[\"content\"].append({\"type\": \"text\", \"text\": question})\n",
    "    messages.append(user_message)\n",
    "    return processor.apply_chat_template(messages, add_generation_prompt=True)"
   ]
  },
  {
   "cell_type": "code",
   "execution_count": 5,
   "metadata": {},
   "outputs": [
    {
     "name": "stdout",
     "output_type": "stream",
     "text": [
      "('System: You are a friendly assistant which answers user '\n",
      " 'querstions                     based on text and image '\n",
      " 'inputs.<end_of_utterance>\\n'\n",
      " 'User: Hello, how are you?<end_of_utterance>\\n'\n",
      " 'Assistant:')\n"
     ]
    }
   ],
   "source": [
    "pprint(prompt(\"Hello, how are you?\"))"
   ]
  },
  {
   "cell_type": "code",
   "execution_count": 6,
   "metadata": {},
   "outputs": [
    {
     "name": "stderr",
     "output_type": "stream",
     "text": [
      "Loading checkpoint shards: 100%|██████████| 7/7 [04:06<00:00, 35.25s/it]\n"
     ]
    }
   ],
   "source": [
    "model = AutoModelForVision2Seq.from_pretrained(\"HuggingFaceM4/idefics2-8b\").to(\"cuda\")"
   ]
  },
  {
   "attachments": {},
   "cell_type": "markdown",
   "metadata": {},
   "source": [
    "## Text only"
   ]
  },
  {
   "cell_type": "code",
   "execution_count": 7,
   "metadata": {},
   "outputs": [
    {
     "name": "stdout",
     "output_type": "stream",
     "text": [
      "['System: You are a friendly assistant which answers user '\n",
      " 'querstions                     based on text and image inputs. \\n'\n",
      " 'User: Hello, how are you? \\n'\n",
      " 'Assistant: I am doing well, thank you for asking! How can I assist you '\n",
      " 'today?']\n"
     ]
    }
   ],
   "source": [
    "inputs = processor(text=prompt(\"Hello, how are you?\"), return_tensors=\"pt\")\n",
    "inputs = {k: v.to(\"cuda\") for k, v in inputs.items()}\n",
    "\n",
    "\n",
    "# Generate\n",
    "generated_ids = model.generate(**inputs, max_new_tokens=500)\n",
    "generated_texts = processor.batch_decode(generated_ids, skip_special_tokens=True)\n",
    "\n",
    "pprint(generated_texts)"
   ]
  },
  {
   "attachments": {},
   "cell_type": "markdown",
   "metadata": {},
   "source": [
    "## Multimodal"
   ]
  },
  {
   "cell_type": "code",
   "execution_count": 8,
   "metadata": {},
   "outputs": [
    {
     "name": "stdout",
     "output_type": "stream",
     "text": [
      "['System: You are a friendly assistant which answers user '\n",
      " 'querstions                     based on text and image inputs. \\n'\n",
      " 'User: What can be seen in the picture? \\n'\n",
      " 'Assistant: People holding a trophy and wearing yellow jerseys.']\n"
     ]
    }
   ],
   "source": [
    "img1 = load_image(\"https://www.derwesten.de/wp-content/uploads/sites/8/2022/06/Champions-League-Sieger.jpg\")\n",
    "\n",
    "inputs = processor(text=prompt(\"What can be seen in the picture?\", images=[img1]), images=[img1], return_tensors=\"pt\")\n",
    "inputs = {k: v.to(\"cuda\") for k, v in inputs.items()}\n",
    "\n",
    "\n",
    "# Generate\n",
    "generated_ids = model.generate(**inputs, max_new_tokens=500)\n",
    "generated_texts = processor.batch_decode(generated_ids, skip_special_tokens=True)\n",
    "\n",
    "pprint(generated_texts)"
   ]
  },
  {
   "cell_type": "code",
   "execution_count": 9,
   "metadata": {},
   "outputs": [
    {
     "name": "stdout",
     "output_type": "stream",
     "text": [
      "['System: You are a friendly assistant which answers user '\n",
      " 'querstions                     based on text and image inputs. \\n'\n",
      " 'User: What is the difference in the pictures? \\n'\n",
      " 'Assistant: In the first image, the men are holding up the trophy while in '\n",
      " 'the second image, the men are holding the trophy over their heads.']\n"
     ]
    }
   ],
   "source": [
    "img2 = load_image(\"https://www.agon-sportsworld.de/media/image/48/29/48/BC1164.jpg\")\n",
    "\n",
    "inputs = processor(text=prompt(\"What is the difference in the pictures?\", images=[img1, img2]), images=[img1, img2], return_tensors=\"pt\")\n",
    "inputs = {k: v.to(\"cuda\") for k, v in inputs.items()}\n",
    "\n",
    "\n",
    "# Generate\n",
    "generated_ids = model.generate(**inputs, max_new_tokens=500)\n",
    "generated_texts = processor.batch_decode(generated_ids, skip_special_tokens=True)\n",
    "\n",
    "pprint(generated_texts)"
   ]
  },
  {
   "cell_type": "code",
   "execution_count": 10,
   "metadata": {},
   "outputs": [
    {
     "data": {
      "text/plain": [
       "'In the first image, the men are holding up the trophy while in the second image, the men are holding the trophy over their heads.'"
      ]
     },
     "execution_count": 10,
     "metadata": {},
     "output_type": "execute_result"
    }
   ],
   "source": [
    "processor.decode(generated_ids[0, 693:], skip_special_tokens=True)"
   ]
  },
  {
   "cell_type": "code",
   "execution_count": 11,
   "metadata": {},
   "outputs": [],
   "source": [
    "del model"
   ]
  },
  {
   "attachments": {},
   "cell_type": "markdown",
   "metadata": {},
   "source": [
    "# Model class"
   ]
  },
  {
   "cell_type": "code",
   "execution_count": 12,
   "metadata": {},
   "outputs": [],
   "source": [
    "class MultimodalModel:\n",
    "    def __init__(self, model_id: str, device: torch.device | str | None = None) -> None:\n",
    "        self.device = torch.device(\"cuda\" if torch.cuda.is_available() else \"cpu\") if not device else device\n",
    "        self.model = AutoModelForVision2Seq.from_pretrained(model_id).to(self.device)\n",
    "        self.processor = AutoProcessor.from_pretrained(model_id)\n",
    "\n",
    "    def __construct_prompt(self, text: str, images: list | None = None) -> str:\n",
    "        messages = [      \n",
    "            {\n",
    "                \"role\": \"system\",\n",
    "                \"content\": [\n",
    "                    {\n",
    "                        \"type\": \"text\", \n",
    "                        \"text\": \"You are a friendly assistant which answers user questions \" \\\n",
    "                        + \"based on text and image inputs. Be concise.\"\n",
    "                    }\n",
    "                ]\n",
    "            }\n",
    "        ]\n",
    "        user_message = {\"role\": \"user\", \"content\": []}\n",
    "        if images:\n",
    "            for img in images:\n",
    "                user_message[\"content\"].append({\"type\": \"image\"})\n",
    "        user_message[\"content\"].append({\"type\": \"text\", \"text\": text})\n",
    "        messages.append(user_message)\n",
    "        return self.processor.apply_chat_template(messages, add_generation_prompt=True)\n",
    "\n",
    "    def __encode_prompt(self, prompt: str, images: list | None = None) -> dict:\n",
    "        return self.processor(\n",
    "            text=prompt, \n",
    "            images=images, \n",
    "            return_tensors=\"pt\"\n",
    "        )\n",
    "\n",
    "    @torch.no_grad()\n",
    "    def __inference(self, inputs: dict, max_new_tokens: int = 500, **kwargs) -> torch.Tensor:\n",
    "        inputs = {k: v.to(self.device) for k, v in inputs.items()}\n",
    "        \n",
    "        if \"max_new_tokens\" not in kwargs:\n",
    "            kwargs[\"max_new_tokens\"] = max_new_tokens\n",
    "\n",
    "        return self.model.generate(**inputs, **kwargs)\n",
    "\n",
    "    def generate(self, text: str, *, images: list | None = None, **kwargs) -> str:\n",
    "        prompt = self.__construct_prompt(text, images)\n",
    "        encoded_prompt = self.__encode_prompt(text, images)\n",
    "        end_user_prompt = encoded_prompt[\"input_ids\"].shape[-1]\n",
    "        outputs = self.__inference(encoded_prompt, **kwargs)\n",
    "        return self.processor.decode(outputs[0, end_user_prompt:], skip_special_tokens=True)"
   ]
  },
  {
   "cell_type": "code",
   "execution_count": 13,
   "metadata": {},
   "outputs": [
    {
     "name": "stderr",
     "output_type": "stream",
     "text": [
      "Loading checkpoint shards: 100%|██████████| 7/7 [04:17<00:00, 36.72s/it]\n",
      "Special tokens have been added in the vocabulary, make sure the associated word embeddings are fine-tuned or trained.\n"
     ]
    }
   ],
   "source": [
    "model = MultimodalModel(\"HuggingFaceM4/idefics2-8b-chatty\")"
   ]
  },
  {
   "cell_type": "code",
   "execution_count": 14,
   "metadata": {},
   "outputs": [
    {
     "name": "stdout",
     "output_type": "stream",
     "text": [
      "('This is a simple question, right? Well, not for everyone. There are people '\n",
      " \"who can't choose a favorite color because they love all of them equally. And \"\n",
      " 'then there are those who have a hard time deciding between two or three '\n",
      " \"colors that they like the most. It's not just a matter of personal \"\n",
      " \"preference, it's a reflection of one's personality. So, what does your \"\n",
      " \"choice of color say about you? Let's find out.\\n\"\n",
      " '\\n'\n",
      " '\\n'\n",
      " '1. Red\\n'\n",
      " 'People who like red are passionate and energetic. They have a fiery '\n",
      " 'personality and are not afraid to speak their mind. They are assertive and '\n",
      " 'have a strong personality. Red is also associated with love and romance, so '\n",
      " 'people who like')\n"
     ]
    }
   ],
   "source": [
    "from pprint import pprint\n",
    "\n",
    "pprint(\n",
    "    model.generate(\n",
    "        \"What is your favorite color?\", \n",
    "        do_sample=True, \n",
    "        num_beams=3, \n",
    "        top_p=0.85, \n",
    "        temperature=1.5, \n",
    "        no_repeat_ngram_size=3, \n",
    "        length_penalty=-1.0,\n",
    "        max_new_tokens=150\n",
    "    )\n",
    ")"
   ]
  },
  {
   "cell_type": "code",
   "execution_count": null,
   "metadata": {},
   "outputs": [],
   "source": []
  }
 ],
 "metadata": {
  "kernelspec": {
   "display_name": ".venv",
   "language": "python",
   "name": "python3"
  },
  "language_info": {
   "codemirror_mode": {
    "name": "ipython",
    "version": 3
   },
   "file_extension": ".py",
   "mimetype": "text/x-python",
   "name": "python",
   "nbconvert_exporter": "python",
   "pygments_lexer": "ipython3",
   "version": "3.10.11"
  },
  "orig_nbformat": 4
 },
 "nbformat": 4,
 "nbformat_minor": 2
}
