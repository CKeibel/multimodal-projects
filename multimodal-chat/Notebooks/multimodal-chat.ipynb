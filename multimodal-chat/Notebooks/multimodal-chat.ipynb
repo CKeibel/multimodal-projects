{
 "cells": [
  {
   "cell_type": "code",
   "execution_count": 4,
   "metadata": {},
   "outputs": [],
   "source": [
    "import torch\n",
    "from transformers import AutoProcessor, AutoModelForVision2Seq\n",
    "from transformers.image_utils import load_image"
   ]
  },
  {
   "attachments": {},
   "cell_type": "markdown",
   "metadata": {},
   "source": [
    "# Prompt tests"
   ]
  },
  {
   "cell_type": "code",
   "execution_count": 6,
   "metadata": {},
   "outputs": [
    {
     "name": "stderr",
     "output_type": "stream",
     "text": [
      "Special tokens have been added in the vocabulary, make sure the associated word embeddings are fine-tuned or trained.\n"
     ]
    },
    {
     "name": "stdout",
     "output_type": "stream",
     "text": [
      "(\"{% for message in messages %}{{message['role'].capitalize()}}{% if \"\n",
      " \"message['content'][0]['type'] == 'image' %}{{':'}}{% else %}{{': '}}{% endif \"\n",
      " \"%}{% for line in message['content'] %}{% if line['type'] == 'text' \"\n",
      " \"%}{{line['text']}}{% elif line['type'] == 'image' %}{{ '<image>' }}{% endif \"\n",
      " '%}{% endfor %}<end_of_utterance>\\n'\n",
      " \"{% endfor %}{% if add_generation_prompt %}{{ 'Assistant:' }}{% endif %}\")\n"
     ]
    }
   ],
   "source": [
    "from pprint import pprint\n",
    "processor = AutoProcessor.from_pretrained(\"HuggingFaceM4/idefics2-8b\")\n",
    "pprint(processor.chat_template)"
   ]
  },
  {
   "cell_type": "code",
   "execution_count": null,
   "metadata": {},
   "outputs": [],
   "source": [
    "(\"{% for message in messages %}\"\n",
    "    \"{{message['role'].capitalize()}}\"\n",
    "    \"{% if message['content'][0]['type'] == 'image' %}\"\n",
    "        \"{{':'}}\"\n",
    "    \"{% else %}{{': '}}\"\n",
    "    \"{% endif %}\"\n",
    "    \"{% for line in message['content'] %}\"\n",
    "        \"{% if line['type'] == 'text' %}\"\n",
    "            \"{{line['text']}}\"\n",
    "        \"{% elif line['type'] == 'image' %}\"\n",
    "            \"{{ '<image>' }}\"\n",
    "        \"{% endif '%}\"\n",
    "    \"{% endfor %}\"\n",
    "    \"<end_of_utterance>\\n\"\n",
    " \"{% endfor %}\"\n",
    " \"{% if add_generation_prompt %}\"\n",
    "    \"{{ 'Assistant:' }}{% endif %}\")"
   ]
  },
  {
   "cell_type": "code",
   "execution_count": 8,
   "metadata": {},
   "outputs": [],
   "source": [
    "def prompt(question: str, images: list | None = None) -> str:\n",
    "    messages = [\n",
    "        {\n",
    "            \"role\": \"system\",\n",
    "            \"content\": [\n",
    "                {\"type\": \"text\", \"text\": \"You are a friendly assistant which answers user querstions \\\n",
    "                    based on text and image inputs.\"}\n",
    "            ]\n",
    "        }\n",
    "    ]\n",
    "    user_message = {\"role\": \"user\", \"content\": []}\n",
    "    if images:\n",
    "        for img in images:\n",
    "            user_message[\"content\"].append({\"type\": \"image\"})\n",
    "    user_message[\"content\"].append({\"type\": \"text\", \"text\": question})\n",
    "    messages.append(user_message)\n",
    "    return processor.apply_chat_template(messages, add_generation_prompt=True)"
   ]
  },
  {
   "cell_type": "code",
   "execution_count": 9,
   "metadata": {},
   "outputs": [
    {
     "name": "stdout",
     "output_type": "stream",
     "text": [
      "('System: You are a friendly assistant which answers user '\n",
      " 'querstions                     based on text and image '\n",
      " 'inputs.<end_of_utterance>\\n'\n",
      " 'User: Hello, how are you?<end_of_utterance>\\n'\n",
      " 'Assistant:')\n"
     ]
    }
   ],
   "source": [
    "pprint(prompt(\"Hello, how are you?\"))"
   ]
  },
  {
   "cell_type": "code",
   "execution_count": 11,
   "metadata": {},
   "outputs": [
    {
     "name": "stderr",
     "output_type": "stream",
     "text": [
      "Loading checkpoint shards: 100%|██████████| 7/7 [04:09<00:00, 35.63s/it]\n"
     ]
    }
   ],
   "source": [
    "model = AutoModelForVision2Seq.from_pretrained(\"HuggingFaceM4/idefics2-8b\").to(\"cuda\")"
   ]
  },
  {
   "attachments": {},
   "cell_type": "markdown",
   "metadata": {},
   "source": [
    "## Text only"
   ]
  },
  {
   "cell_type": "code",
   "execution_count": 13,
   "metadata": {},
   "outputs": [
    {
     "name": "stdout",
     "output_type": "stream",
     "text": [
      "['System: You are a friendly assistant which answers user '\n",
      " 'querstions                     based on text and image inputs. \\n'\n",
      " 'User: Hello, how are you? \\n'\n",
      " 'Assistant: I am doing well, thank you for asking! How can I assist you '\n",
      " 'today?']\n"
     ]
    }
   ],
   "source": [
    "inputs = processor(text=prompt(\"Hello, how are you?\"), return_tensors=\"pt\")\n",
    "inputs = {k: v.to(\"cuda\") for k, v in inputs.items()}\n",
    "\n",
    "\n",
    "# Generate\n",
    "generated_ids = model.generate(**inputs, max_new_tokens=500)\n",
    "generated_texts = processor.batch_decode(generated_ids, skip_special_tokens=True)\n",
    "\n",
    "pprint(generated_texts)"
   ]
  },
  {
   "attachments": {},
   "cell_type": "markdown",
   "metadata": {},
   "source": [
    "## Multimodal"
   ]
  },
  {
   "cell_type": "code",
   "execution_count": 16,
   "metadata": {},
   "outputs": [
    {
     "name": "stdout",
     "output_type": "stream",
     "text": [
      "['System: You are a friendly assistant which answers user '\n",
      " 'querstions                     based on text and image inputs. \\n'\n",
      " 'User: What can be seen in the picture? \\n'\n",
      " 'Assistant: People holding a trophy and wearing yellow jerseys.']\n"
     ]
    }
   ],
   "source": [
    "img1 = load_image(\"https://www.derwesten.de/wp-content/uploads/sites/8/2022/06/Champions-League-Sieger.jpg\")\n",
    "\n",
    "inputs = processor(text=prompt(\"What can be seen in the picture?\", images=[img1]), images=[img1], return_tensors=\"pt\")\n",
    "inputs = {k: v.to(\"cuda\") for k, v in inputs.items()}\n",
    "\n",
    "\n",
    "# Generate\n",
    "generated_ids = model.generate(**inputs, max_new_tokens=500)\n",
    "generated_texts = processor.batch_decode(generated_ids, skip_special_tokens=True)\n",
    "\n",
    "pprint(generated_texts)"
   ]
  },
  {
   "cell_type": "code",
   "execution_count": 17,
   "metadata": {},
   "outputs": [
    {
     "name": "stdout",
     "output_type": "stream",
     "text": [
      "['System: You are a friendly assistant which answers user '\n",
      " 'querstions                     based on text and image inputs. \\n'\n",
      " 'User: What is the difference in the pictures? \\n'\n",
      " 'Assistant: In the first image, the men are holding up the trophy while in '\n",
      " 'the second image, the men are holding the trophy over their heads.']\n"
     ]
    }
   ],
   "source": [
    "img2 = load_image(\"https://www.agon-sportsworld.de/media/image/48/29/48/BC1164.jpg\")\n",
    "\n",
    "inputs = processor(text=prompt(\"What is the difference in the pictures?\", images=[img1, img2]), images=[img1, img2], return_tensors=\"pt\")\n",
    "inputs = {k: v.to(\"cuda\") for k, v in inputs.items()}\n",
    "\n",
    "\n",
    "# Generate\n",
    "generated_ids = model.generate(**inputs, max_new_tokens=500)\n",
    "generated_texts = processor.batch_decode(generated_ids, skip_special_tokens=True)\n",
    "\n",
    "pprint(generated_texts)"
   ]
  },
  {
   "attachments": {},
   "cell_type": "markdown",
   "metadata": {},
   "source": [
    "# Model init"
   ]
  },
  {
   "cell_type": "code",
   "execution_count": null,
   "metadata": {},
   "outputs": [],
   "source": [
    "class MultimodalModel:\n",
    "    def __init__(self, model_id: str, device: torch.device | str | None = None) -> None:\n",
    "        self.device = torch.device(\"cuda\" if torch.cuda.is_available() else \"cpu\") if not device else device\n",
    "        self.model = AutoModelForVision2Seq.from_pretrained(model_id).to(self.device)\n",
    "        self.processor = AutoProcessor.from_pretrained(model_id)\n",
    "\n",
    "    "
   ]
  },
  {
   "cell_type": "code",
   "execution_count": null,
   "metadata": {},
   "outputs": [],
   "source": []
  }
 ],
 "metadata": {
  "kernelspec": {
   "display_name": ".venv",
   "language": "python",
   "name": "python3"
  },
  "language_info": {
   "codemirror_mode": {
    "name": "ipython",
    "version": 3
   },
   "file_extension": ".py",
   "mimetype": "text/x-python",
   "name": "python",
   "nbconvert_exporter": "python",
   "pygments_lexer": "ipython3",
   "version": "3.10.11"
  },
  "orig_nbformat": 4
 },
 "nbformat": 4,
 "nbformat_minor": 2
}
